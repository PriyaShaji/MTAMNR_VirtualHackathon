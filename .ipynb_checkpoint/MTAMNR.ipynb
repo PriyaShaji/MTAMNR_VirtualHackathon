{
 "cells": [
  {
   "cell_type": "markdown",
   "metadata": {},
   "source": [
    "### Team 26 MTA MNR Virtual Hackathon"
   ]
  },
  {
   "cell_type": "markdown",
   "metadata": {},
   "source": [
    "import required libraries"
   ]
  },
  {
   "cell_type": "code",
   "execution_count": 296,
   "metadata": {},
   "outputs": [],
   "source": [
    "\n",
    "import pandas as pd\n",
    "import numpy as np\n",
    "import matplotlib.pyplot as plt\n",
    "import seaborn as sns\n",
    "from sklearn import metrics\n",
    "from sklearn.preprocessing import LabelEncoder\n",
    "from sklearn.model_selection import GridSearchCV\n",
    "from sklearn.metrics import confusion_matrix"
   ]
  },
  {
   "cell_type": "markdown",
   "metadata": {},
   "source": [
    "Split the dataset to training and testing initially for feature extraction. This method would increase predicition of best models with only important feature columns."
   ]
  },
  {
   "cell_type": "markdown",
   "metadata": {},
   "source": [
    "Import training dataset"
   ]
  },
  {
   "cell_type": "code",
   "execution_count": 297,
   "metadata": {},
   "outputs": [
    {
     "data": {
      "text/plain": [
       "(164, 18)"
      ]
     },
     "execution_count": 297,
     "metadata": {},
     "output_type": "execute_result"
    }
   ],
   "source": [
    "train_data = pd.read_csv(\"https://raw.githubusercontent.com/PriyaShaji/MTAMNR_VirtualHackathon/master/Datasets/lirr_train_data.csv\")\n",
    "train_data.shape"
   ]
  },
  {
   "cell_type": "markdown",
   "metadata": {},
   "source": [
    "Import testing dataset"
   ]
  },
  {
   "cell_type": "code",
   "execution_count": 298,
   "metadata": {},
   "outputs": [
    {
     "data": {
      "text/plain": [
       "(823, 18)"
      ]
     },
     "execution_count": 298,
     "metadata": {},
     "output_type": "execute_result"
    }
   ],
   "source": [
    "test_data = pd.read_csv(\"https://raw.githubusercontent.com/PriyaShaji/MTAMNR_VirtualHackathon/master/Datasets/lirr_test_data.csv\")\n",
    "test_data.shape"
   ]
  },
  {
   "cell_type": "code",
   "execution_count": 299,
   "metadata": {},
   "outputs": [
    {
     "data": {
      "text/html": [
       "<div>\n",
       "<style scoped>\n",
       "    .dataframe tbody tr th:only-of-type {\n",
       "        vertical-align: middle;\n",
       "    }\n",
       "\n",
       "    .dataframe tbody tr th {\n",
       "        vertical-align: top;\n",
       "    }\n",
       "\n",
       "    .dataframe thead th {\n",
       "        text-align: right;\n",
       "    }\n",
       "</style>\n",
       "<table border=\"1\" class=\"dataframe\">\n",
       "  <thead>\n",
       "    <tr style=\"text-align: right;\">\n",
       "      <th></th>\n",
       "      <th>LW_ID</th>\n",
       "      <th>RSU_ID</th>\n",
       "      <th>LW_DATE</th>\n",
       "      <th>LW_FRONT</th>\n",
       "      <th>LW_BACK</th>\n",
       "      <th>DOOR_ZONE_FRONT</th>\n",
       "      <th>DOOR_ZONE_BACK</th>\n",
       "      <th>UPDATED_TIME</th>\n",
       "      <th>TRANSACTION_ID</th>\n",
       "      <th>SOURCE_CAR_NBR</th>\n",
       "      <th>POI_CODE</th>\n",
       "      <th>POI_NUM</th>\n",
       "      <th>MIN_BASELINE</th>\n",
       "      <th>MIN_BASELINE_UPDATED_TIME</th>\n",
       "      <th>THREE_HR_LW_MIN</th>\n",
       "      <th>PASSENGER_LEVEL</th>\n",
       "      <th>NUM_OF_PASSENGERS</th>\n",
       "      <th>DOOR_STATUS</th>\n",
       "    </tr>\n",
       "  </thead>\n",
       "  <tbody>\n",
       "    <tr>\n",
       "      <th>0</th>\n",
       "      <td>434</td>\n",
       "      <td>7427</td>\n",
       "      <td>07/15/2020 02:29:44</td>\n",
       "      <td>69</td>\n",
       "      <td>61</td>\n",
       "      <td>0</td>\n",
       "      <td>0</td>\n",
       "      <td>07/15/2020 02:29:46</td>\n",
       "      <td>26032975</td>\n",
       "      <td>7427</td>\n",
       "      <td>HYD</td>\n",
       "      <td>95</td>\n",
       "      <td>65</td>\n",
       "      <td>07/15/2020 01:38:21</td>\n",
       "      <td>65</td>\n",
       "      <td>1</td>\n",
       "      <td>3</td>\n",
       "      <td>CLOSED</td>\n",
       "    </tr>\n",
       "    <tr>\n",
       "      <th>1</th>\n",
       "      <td>435</td>\n",
       "      <td>7428</td>\n",
       "      <td>07/15/2020 02:29:44</td>\n",
       "      <td>68</td>\n",
       "      <td>60</td>\n",
       "      <td>0</td>\n",
       "      <td>1</td>\n",
       "      <td>07/15/2020 02:29:46</td>\n",
       "      <td>26032975</td>\n",
       "      <td>7427</td>\n",
       "      <td>HYD</td>\n",
       "      <td>95</td>\n",
       "      <td>63</td>\n",
       "      <td>07/15/2020 01:38:21</td>\n",
       "      <td>63</td>\n",
       "      <td>1</td>\n",
       "      <td>6</td>\n",
       "      <td>CLOSED</td>\n",
       "    </tr>\n",
       "    <tr>\n",
       "      <th>2</th>\n",
       "      <td>88</td>\n",
       "      <td>7182</td>\n",
       "      <td>07/15/2020 09:50:36</td>\n",
       "      <td>65</td>\n",
       "      <td>58</td>\n",
       "      <td>1</td>\n",
       "      <td>1</td>\n",
       "      <td>07/15/2020 09:50:39</td>\n",
       "      <td>26257927</td>\n",
       "      <td>7181</td>\n",
       "      <td>HYD</td>\n",
       "      <td>95</td>\n",
       "      <td>62</td>\n",
       "      <td>07/15/2020 09:50:39</td>\n",
       "      <td>68</td>\n",
       "      <td>0</td>\n",
       "      <td>0</td>\n",
       "      <td>OPEN</td>\n",
       "    </tr>\n",
       "    <tr>\n",
       "      <th>3</th>\n",
       "      <td>170</td>\n",
       "      <td>7429</td>\n",
       "      <td>07/15/2020 09:52:59</td>\n",
       "      <td>67</td>\n",
       "      <td>62</td>\n",
       "      <td>1</td>\n",
       "      <td>0</td>\n",
       "      <td>07/15/2020 09:53:08</td>\n",
       "      <td>26259233</td>\n",
       "      <td>7429</td>\n",
       "      <td>0</td>\n",
       "      <td>0</td>\n",
       "      <td>65</td>\n",
       "      <td>07/15/2020 08:53:07</td>\n",
       "      <td>65</td>\n",
       "      <td>0</td>\n",
       "      <td>0</td>\n",
       "      <td>OPEN</td>\n",
       "    </tr>\n",
       "    <tr>\n",
       "      <th>4</th>\n",
       "      <td>171</td>\n",
       "      <td>7430</td>\n",
       "      <td>07/15/2020 09:52:59</td>\n",
       "      <td>67</td>\n",
       "      <td>59</td>\n",
       "      <td>1</td>\n",
       "      <td>1</td>\n",
       "      <td>07/15/2020 09:53:08</td>\n",
       "      <td>26259233</td>\n",
       "      <td>7429</td>\n",
       "      <td>0</td>\n",
       "      <td>0</td>\n",
       "      <td>63</td>\n",
       "      <td>07/15/2020 08:53:07</td>\n",
       "      <td>63</td>\n",
       "      <td>0</td>\n",
       "      <td>0</td>\n",
       "      <td>OPEN</td>\n",
       "    </tr>\n",
       "  </tbody>\n",
       "</table>\n",
       "</div>"
      ],
      "text/plain": [
       "   LW_ID  RSU_ID              LW_DATE  LW_FRONT  LW_BACK  DOOR_ZONE_FRONT  \\\n",
       "0    434    7427  07/15/2020 02:29:44        69       61                0   \n",
       "1    435    7428  07/15/2020 02:29:44        68       60                0   \n",
       "2     88    7182  07/15/2020 09:50:36        65       58                1   \n",
       "3    170    7429  07/15/2020 09:52:59        67       62                1   \n",
       "4    171    7430  07/15/2020 09:52:59        67       59                1   \n",
       "\n",
       "   DOOR_ZONE_BACK         UPDATED_TIME  TRANSACTION_ID  SOURCE_CAR_NBR  \\\n",
       "0               0  07/15/2020 02:29:46        26032975            7427   \n",
       "1               1  07/15/2020 02:29:46        26032975            7427   \n",
       "2               1  07/15/2020 09:50:39        26257927            7181   \n",
       "3               0  07/15/2020 09:53:08        26259233            7429   \n",
       "4               1  07/15/2020 09:53:08        26259233            7429   \n",
       "\n",
       "  POI_CODE POI_NUM  MIN_BASELINE MIN_BASELINE_UPDATED_TIME  THREE_HR_LW_MIN  \\\n",
       "0      HYD      95            65       07/15/2020 01:38:21               65   \n",
       "1      HYD      95            63       07/15/2020 01:38:21               63   \n",
       "2      HYD      95            62       07/15/2020 09:50:39               68   \n",
       "3        0       0            65       07/15/2020 08:53:07               65   \n",
       "4        0       0            63       07/15/2020 08:53:07               63   \n",
       "\n",
       "   PASSENGER_LEVEL  NUM_OF_PASSENGERS DOOR_STATUS  \n",
       "0                1                  3      CLOSED  \n",
       "1                1                  6      CLOSED  \n",
       "2                0                  0        OPEN  \n",
       "3                0                  0        OPEN  \n",
       "4                0                  0        OPEN  "
      ]
     },
     "execution_count": 299,
     "metadata": {},
     "output_type": "execute_result"
    }
   ],
   "source": [
    "train_data.head()"
   ]
  },
  {
   "cell_type": "markdown",
   "metadata": {},
   "source": [
    "### Data Exploration"
   ]
  },
  {
   "cell_type": "code",
   "execution_count": 300,
   "metadata": {},
   "outputs": [
    {
     "data": {
      "text/plain": [
       "LW_ID                         int64\n",
       "RSU_ID                        int64\n",
       "LW_DATE                      object\n",
       "LW_FRONT                      int64\n",
       "LW_BACK                       int64\n",
       "DOOR_ZONE_FRONT               int64\n",
       "DOOR_ZONE_BACK                int64\n",
       "UPDATED_TIME                 object\n",
       "TRANSACTION_ID                int64\n",
       "SOURCE_CAR_NBR                int64\n",
       "POI_CODE                     object\n",
       "POI_NUM                      object\n",
       "MIN_BASELINE                  int64\n",
       "MIN_BASELINE_UPDATED_TIME    object\n",
       "THREE_HR_LW_MIN               int64\n",
       "PASSENGER_LEVEL               int64\n",
       "NUM_OF_PASSENGERS             int64\n",
       "DOOR_STATUS                  object\n",
       "dtype: object"
      ]
     },
     "execution_count": 300,
     "metadata": {},
     "output_type": "execute_result"
    }
   ],
   "source": [
    "train_data.dtypes"
   ]
  },
  {
   "cell_type": "code",
   "execution_count": 301,
   "metadata": {},
   "outputs": [
    {
     "data": {
      "text/html": [
       "<div>\n",
       "<style scoped>\n",
       "    .dataframe tbody tr th:only-of-type {\n",
       "        vertical-align: middle;\n",
       "    }\n",
       "\n",
       "    .dataframe tbody tr th {\n",
       "        vertical-align: top;\n",
       "    }\n",
       "\n",
       "    .dataframe thead th {\n",
       "        text-align: right;\n",
       "    }\n",
       "</style>\n",
       "<table border=\"1\" class=\"dataframe\">\n",
       "  <thead>\n",
       "    <tr style=\"text-align: right;\">\n",
       "      <th></th>\n",
       "      <th>LW_ID</th>\n",
       "      <th>RSU_ID</th>\n",
       "      <th>LW_DATE</th>\n",
       "      <th>LW_FRONT</th>\n",
       "      <th>LW_BACK</th>\n",
       "      <th>DOOR_ZONE_FRONT</th>\n",
       "      <th>DOOR_ZONE_BACK</th>\n",
       "      <th>UPDATED_TIME</th>\n",
       "      <th>TRANSACTION_ID</th>\n",
       "      <th>SOURCE_CAR_NBR</th>\n",
       "      <th>POI_CODE</th>\n",
       "      <th>POI_NUM</th>\n",
       "      <th>MIN_BASELINE</th>\n",
       "      <th>MIN_BASELINE_UPDATED_TIME</th>\n",
       "      <th>THREE_HR_LW_MIN</th>\n",
       "      <th>PASSENGER_LEVEL</th>\n",
       "      <th>NUM_OF_PASSENGERS</th>\n",
       "      <th>DOOR_STATUS</th>\n",
       "    </tr>\n",
       "  </thead>\n",
       "  <tbody>\n",
       "    <tr>\n",
       "      <th>0</th>\n",
       "      <td>656.0</td>\n",
       "      <td>7264.0</td>\n",
       "      <td>07/15/2020 10:43:16</td>\n",
       "      <td>66.0</td>\n",
       "      <td>59.0</td>\n",
       "      <td>1.0</td>\n",
       "      <td>1.0</td>\n",
       "      <td>07/15/2020 10:43:19</td>\n",
       "      <td>26286229.0</td>\n",
       "      <td>7766.0</td>\n",
       "      <td>0</td>\n",
       "      <td>0</td>\n",
       "      <td>62.0</td>\n",
       "      <td>07/15/2020 10:13:39</td>\n",
       "      <td>62.0</td>\n",
       "      <td>1.0</td>\n",
       "      <td>6.0</td>\n",
       "      <td>OPEN</td>\n",
       "    </tr>\n",
       "    <tr>\n",
       "      <th>1</th>\n",
       "      <td>783.0</td>\n",
       "      <td>7765.0</td>\n",
       "      <td>07/15/2020 10:43:16</td>\n",
       "      <td>67.0</td>\n",
       "      <td>60.0</td>\n",
       "      <td>1.0</td>\n",
       "      <td>0.0</td>\n",
       "      <td>07/15/2020 10:43:19</td>\n",
       "      <td>26286229.0</td>\n",
       "      <td>7766.0</td>\n",
       "      <td>0</td>\n",
       "      <td>0</td>\n",
       "      <td>63.0</td>\n",
       "      <td>07/15/2020 08:50:59</td>\n",
       "      <td>63.0</td>\n",
       "      <td>1.0</td>\n",
       "      <td>6.0</td>\n",
       "      <td>OPEN</td>\n",
       "    </tr>\n",
       "    <tr>\n",
       "      <th>2</th>\n",
       "      <td>782.0</td>\n",
       "      <td>7766.0</td>\n",
       "      <td>07/15/2020 10:43:16</td>\n",
       "      <td>67.0</td>\n",
       "      <td>60.0</td>\n",
       "      <td>1.0</td>\n",
       "      <td>1.0</td>\n",
       "      <td>07/15/2020 10:43:19</td>\n",
       "      <td>26286229.0</td>\n",
       "      <td>7766.0</td>\n",
       "      <td>0</td>\n",
       "      <td>0</td>\n",
       "      <td>63.0</td>\n",
       "      <td>07/15/2020 10:34:19</td>\n",
       "      <td>64.0</td>\n",
       "      <td>1.0</td>\n",
       "      <td>6.0</td>\n",
       "      <td>OPEN</td>\n",
       "    </tr>\n",
       "    <tr>\n",
       "      <th>3</th>\n",
       "      <td>774.0</td>\n",
       "      <td>7576.0</td>\n",
       "      <td>07/15/2020 10:43:16</td>\n",
       "      <td>67.0</td>\n",
       "      <td>59.0</td>\n",
       "      <td>1.0</td>\n",
       "      <td>1.0</td>\n",
       "      <td>07/15/2020 10:43:19</td>\n",
       "      <td>26286229.0</td>\n",
       "      <td>7766.0</td>\n",
       "      <td>0</td>\n",
       "      <td>0</td>\n",
       "      <td>62.0</td>\n",
       "      <td>07/15/2020 09:32:39</td>\n",
       "      <td>63.0</td>\n",
       "      <td>1.0</td>\n",
       "      <td>6.0</td>\n",
       "      <td>OPEN</td>\n",
       "    </tr>\n",
       "    <tr>\n",
       "      <th>4</th>\n",
       "      <td>773.0</td>\n",
       "      <td>7575.0</td>\n",
       "      <td>07/15/2020 10:43:16</td>\n",
       "      <td>67.0</td>\n",
       "      <td>60.0</td>\n",
       "      <td>1.0</td>\n",
       "      <td>0.0</td>\n",
       "      <td>07/15/2020 10:43:19</td>\n",
       "      <td>26286229.0</td>\n",
       "      <td>7766.0</td>\n",
       "      <td>0</td>\n",
       "      <td>0</td>\n",
       "      <td>63.0</td>\n",
       "      <td>07/15/2020 09:36:59</td>\n",
       "      <td>63.0</td>\n",
       "      <td>1.0</td>\n",
       "      <td>3.0</td>\n",
       "      <td>OPEN</td>\n",
       "    </tr>\n",
       "  </tbody>\n",
       "</table>\n",
       "</div>"
      ],
      "text/plain": [
       "   LW_ID  RSU_ID              LW_DATE  LW_FRONT  LW_BACK  DOOR_ZONE_FRONT  \\\n",
       "0  656.0  7264.0  07/15/2020 10:43:16      66.0     59.0              1.0   \n",
       "1  783.0  7765.0  07/15/2020 10:43:16      67.0     60.0              1.0   \n",
       "2  782.0  7766.0  07/15/2020 10:43:16      67.0     60.0              1.0   \n",
       "3  774.0  7576.0  07/15/2020 10:43:16      67.0     59.0              1.0   \n",
       "4  773.0  7575.0  07/15/2020 10:43:16      67.0     60.0              1.0   \n",
       "\n",
       "   DOOR_ZONE_BACK         UPDATED_TIME  TRANSACTION_ID  SOURCE_CAR_NBR  \\\n",
       "0             1.0  07/15/2020 10:43:19      26286229.0          7766.0   \n",
       "1             0.0  07/15/2020 10:43:19      26286229.0          7766.0   \n",
       "2             1.0  07/15/2020 10:43:19      26286229.0          7766.0   \n",
       "3             1.0  07/15/2020 10:43:19      26286229.0          7766.0   \n",
       "4             0.0  07/15/2020 10:43:19      26286229.0          7766.0   \n",
       "\n",
       "  POI_CODE POI_NUM  MIN_BASELINE MIN_BASELINE_UPDATED_TIME  THREE_HR_LW_MIN  \\\n",
       "0        0       0          62.0       07/15/2020 10:13:39             62.0   \n",
       "1        0       0          63.0       07/15/2020 08:50:59             63.0   \n",
       "2        0       0          63.0       07/15/2020 10:34:19             64.0   \n",
       "3        0       0          62.0       07/15/2020 09:32:39             63.0   \n",
       "4        0       0          63.0       07/15/2020 09:36:59             63.0   \n",
       "\n",
       "   PASSENGER_LEVEL  NUM_OF_PASSENGERS DOOR_STATUS  \n",
       "0              1.0                6.0        OPEN  \n",
       "1              1.0                6.0        OPEN  \n",
       "2              1.0                6.0        OPEN  \n",
       "3              1.0                6.0        OPEN  \n",
       "4              1.0                3.0        OPEN  "
      ]
     },
     "execution_count": 301,
     "metadata": {},
     "output_type": "execute_result"
    }
   ],
   "source": [
    "test_data.head()"
   ]
  },
  {
   "cell_type": "markdown",
   "metadata": {},
   "source": [
    "Create a dataset with target variable and it can be used for prediction dataset by the end"
   ]
  },
  {
   "cell_type": "code",
   "execution_count": 302,
   "metadata": {},
   "outputs": [
    {
     "data": {
      "text/html": [
       "<div>\n",
       "<style scoped>\n",
       "    .dataframe tbody tr th:only-of-type {\n",
       "        vertical-align: middle;\n",
       "    }\n",
       "\n",
       "    .dataframe tbody tr th {\n",
       "        vertical-align: top;\n",
       "    }\n",
       "\n",
       "    .dataframe thead th {\n",
       "        text-align: right;\n",
       "    }\n",
       "</style>\n",
       "<table border=\"1\" class=\"dataframe\">\n",
       "  <thead>\n",
       "    <tr style=\"text-align: right;\">\n",
       "      <th></th>\n",
       "      <th>RSU_ID</th>\n",
       "    </tr>\n",
       "  </thead>\n",
       "  <tbody>\n",
       "    <tr>\n",
       "      <th>0</th>\n",
       "      <td>7264.0</td>\n",
       "    </tr>\n",
       "    <tr>\n",
       "      <th>1</th>\n",
       "      <td>7765.0</td>\n",
       "    </tr>\n",
       "    <tr>\n",
       "      <th>2</th>\n",
       "      <td>7766.0</td>\n",
       "    </tr>\n",
       "    <tr>\n",
       "      <th>3</th>\n",
       "      <td>7576.0</td>\n",
       "    </tr>\n",
       "    <tr>\n",
       "      <th>4</th>\n",
       "      <td>7575.0</td>\n",
       "    </tr>\n",
       "  </tbody>\n",
       "</table>\n",
       "</div>"
      ],
      "text/plain": [
       "   RSU_ID\n",
       "0  7264.0\n",
       "1  7765.0\n",
       "2  7766.0\n",
       "3  7576.0\n",
       "4  7575.0"
      ]
     },
     "execution_count": 302,
     "metadata": {},
     "output_type": "execute_result"
    }
   ],
   "source": [
    "mtamnr = pd.DataFrame({'RSU_ID': test_data['RSU_ID']})\n",
    "mtamnr.head()"
   ]
  },
  {
   "cell_type": "markdown",
   "metadata": {},
   "source": [
    "Data distribution of target variable. Our target variable is \"MIN_BASELINE\" as it gives passenger occupany count which can greatly contribute in prediction of the same"
   ]
  },
  {
   "cell_type": "code",
   "execution_count": 303,
   "metadata": {},
   "outputs": [
    {
     "data": {
      "image/png": "[encoded data removed]",
      "text/plain": [
       "<Figure size 576x720 with 1 Axes>"
      ]
     },
     "metadata": {
      "needs_background": "light"
     },
     "output_type": "display_data"
    }
   ],
   "source": [
    "plt.title('Distribution of target variable')\n",
    "sns.countplot(train_data['MIN_BASELINE'])\n",
    "plt.show()"
   ]
  },
  {
   "cell_type": "markdown",
   "metadata": {},
   "source": [
    "Analyzing the target variable"
   ]
  },
  {
   "cell_type": "code",
   "execution_count": 304,
   "metadata": {},
   "outputs": [
    {
     "data": {
      "text/plain": [
       "63    58\n",
       "64    40\n",
       "62    38\n",
       "65    22\n",
       "66     3\n",
       "61     3\n",
       "Name: MIN_BASELINE, dtype: int64"
      ]
     },
     "execution_count": 304,
     "metadata": {},
     "output_type": "execute_result"
    }
   ],
   "source": [
    "\n",
    "train_data['MIN_BASELINE'].value_counts()"
   ]
  },
  {
   "cell_type": "markdown",
   "metadata": {},
   "source": [
    "### Data Processing"
   ]
  },
  {
   "cell_type": "markdown",
   "metadata": {},
   "source": [
    "Cleaning test abd train datasets from zero's and missing values"
   ]
  },
  {
   "cell_type": "code",
   "execution_count": 305,
   "metadata": {},
   "outputs": [
    {
     "data": {
      "text/plain": [
       "LW_ID                        0\n",
       "RSU_ID                       0\n",
       "LW_DATE                      0\n",
       "LW_FRONT                     0\n",
       "LW_BACK                      0\n",
       "DOOR_ZONE_FRONT              0\n",
       "DOOR_ZONE_BACK               0\n",
       "UPDATED_TIME                 0\n",
       "TRANSACTION_ID               0\n",
       "SOURCE_CAR_NBR               0\n",
       "POI_CODE                     0\n",
       "POI_NUM                      0\n",
       "MIN_BASELINE                 0\n",
       "MIN_BASELINE_UPDATED_TIME    0\n",
       "THREE_HR_LW_MIN              0\n",
       "PASSENGER_LEVEL              0\n",
       "NUM_OF_PASSENGERS            0\n",
       "DOOR_STATUS                  0\n",
       "dtype: int64"
      ]
     },
     "execution_count": 305,
     "metadata": {},
     "output_type": "execute_result"
    }
   ],
   "source": [
    "train_data.isna().sum()"
   ]
  },
  {
   "cell_type": "code",
   "execution_count": 306,
   "metadata": {},
   "outputs": [
    {
     "data": {
      "text/plain": [
       "LW_ID                        164\n",
       "RSU_ID                       164\n",
       "LW_DATE                      164\n",
       "LW_FRONT                     164\n",
       "LW_BACK                      164\n",
       "DOOR_ZONE_FRONT              164\n",
       "DOOR_ZONE_BACK               164\n",
       "UPDATED_TIME                 164\n",
       "TRANSACTION_ID               164\n",
       "SOURCE_CAR_NBR               164\n",
       "POI_CODE                     164\n",
       "POI_NUM                      164\n",
       "MIN_BASELINE                 165\n",
       "MIN_BASELINE_UPDATED_TIME    165\n",
       "THREE_HR_LW_MIN              165\n",
       "PASSENGER_LEVEL              164\n",
       "NUM_OF_PASSENGERS            164\n",
       "DOOR_STATUS                  164\n",
       "dtype: int64"
      ]
     },
     "execution_count": 306,
     "metadata": {},
     "output_type": "execute_result"
    }
   ],
   "source": [
    "test_data.isna().sum()"
   ]
  },
  {
   "cell_type": "code",
   "execution_count": 307,
   "metadata": {},
   "outputs": [
    {
     "data": {
      "text/plain": [
       "LW_ID                        164\n",
       "RSU_ID                       164\n",
       "LW_DATE                       27\n",
       "LW_FRONT                       7\n",
       "LW_BACK                        8\n",
       "DOOR_ZONE_FRONT                2\n",
       "DOOR_ZONE_BACK                 2\n",
       "UPDATED_TIME                  27\n",
       "TRANSACTION_ID                35\n",
       "SOURCE_CAR_NBR                35\n",
       "POI_CODE                       7\n",
       "POI_NUM                        7\n",
       "MIN_BASELINE                   6\n",
       "MIN_BASELINE_UPDATED_TIME    126\n",
       "THREE_HR_LW_MIN                7\n",
       "PASSENGER_LEVEL                2\n",
       "NUM_OF_PASSENGERS              7\n",
       "DOOR_STATUS                    2\n",
       "dtype: int64"
      ]
     },
     "execution_count": 307,
     "metadata": {},
     "output_type": "execute_result"
    }
   ],
   "source": [
    "train_data.nunique()"
   ]
  },
  {
   "cell_type": "code",
   "execution_count": 308,
   "metadata": {},
   "outputs": [
    {
     "data": {
      "text/plain": [
       "LW_ID                        659\n",
       "RSU_ID                       659\n",
       "LW_DATE                       13\n",
       "LW_FRONT                      10\n",
       "LW_BACK                       11\n",
       "DOOR_ZONE_FRONT                2\n",
       "DOOR_ZONE_BACK                 2\n",
       "UPDATED_TIME                  13\n",
       "TRANSACTION_ID                68\n",
       "SOURCE_CAR_NBR                68\n",
       "POI_CODE                      18\n",
       "POI_NUM                       18\n",
       "MIN_BASELINE                   9\n",
       "MIN_BASELINE_UPDATED_TIME    615\n",
       "THREE_HR_LW_MIN                9\n",
       "PASSENGER_LEVEL                2\n",
       "NUM_OF_PASSENGERS             10\n",
       "DOOR_STATUS                    2\n",
       "dtype: int64"
      ]
     },
     "execution_count": 308,
     "metadata": {},
     "output_type": "execute_result"
    }
   ],
   "source": [
    "test_data.nunique()"
   ]
  },
  {
   "cell_type": "markdown",
   "metadata": {},
   "source": [
    "Drop columns which will be of no use for our model"
   ]
  },
  {
   "cell_type": "code",
   "execution_count": 309,
   "metadata": {},
   "outputs": [],
   "source": [
    "col_list = ['LW_ID', 'LW_DATE', 'UPDATED_TIME', 'TRANSACTION_ID', 'MIN_BASELINE_UPDATED_TIME']"
   ]
  },
  {
   "cell_type": "code",
   "execution_count": 310,
   "metadata": {},
   "outputs": [],
   "source": [
    "\n",
    "train_data = train_data.drop(col_list, axis=1)\n",
    "test_data = test_data.drop(col_list, axis=1)"
   ]
  },
  {
   "cell_type": "code",
   "execution_count": 311,
   "metadata": {},
   "outputs": [
    {
     "data": {
      "text/html": [
       "<div>\n",
       "<style scoped>\n",
       "    .dataframe tbody tr th:only-of-type {\n",
       "        vertical-align: middle;\n",
       "    }\n",
       "\n",
       "    .dataframe tbody tr th {\n",
       "        vertical-align: top;\n",
       "    }\n",
       "\n",
       "    .dataframe thead th {\n",
       "        text-align: right;\n",
       "    }\n",
       "</style>\n",
       "<table border=\"1\" class=\"dataframe\">\n",
       "  <thead>\n",
       "    <tr style=\"text-align: right;\">\n",
       "      <th></th>\n",
       "      <th>RSU_ID</th>\n",
       "      <th>LW_FRONT</th>\n",
       "      <th>LW_BACK</th>\n",
       "      <th>DOOR_ZONE_FRONT</th>\n",
       "      <th>DOOR_ZONE_BACK</th>\n",
       "      <th>SOURCE_CAR_NBR</th>\n",
       "      <th>POI_CODE</th>\n",
       "      <th>POI_NUM</th>\n",
       "      <th>MIN_BASELINE</th>\n",
       "      <th>THREE_HR_LW_MIN</th>\n",
       "      <th>PASSENGER_LEVEL</th>\n",
       "      <th>NUM_OF_PASSENGERS</th>\n",
       "      <th>DOOR_STATUS</th>\n",
       "    </tr>\n",
       "  </thead>\n",
       "  <tbody>\n",
       "    <tr>\n",
       "      <th>0</th>\n",
       "      <td>7427</td>\n",
       "      <td>69</td>\n",
       "      <td>61</td>\n",
       "      <td>0</td>\n",
       "      <td>0</td>\n",
       "      <td>7427</td>\n",
       "      <td>HYD</td>\n",
       "      <td>95</td>\n",
       "      <td>65</td>\n",
       "      <td>65</td>\n",
       "      <td>1</td>\n",
       "      <td>3</td>\n",
       "      <td>CLOSED</td>\n",
       "    </tr>\n",
       "    <tr>\n",
       "      <th>1</th>\n",
       "      <td>7428</td>\n",
       "      <td>68</td>\n",
       "      <td>60</td>\n",
       "      <td>0</td>\n",
       "      <td>1</td>\n",
       "      <td>7427</td>\n",
       "      <td>HYD</td>\n",
       "      <td>95</td>\n",
       "      <td>63</td>\n",
       "      <td>63</td>\n",
       "      <td>1</td>\n",
       "      <td>6</td>\n",
       "      <td>CLOSED</td>\n",
       "    </tr>\n",
       "    <tr>\n",
       "      <th>2</th>\n",
       "      <td>7182</td>\n",
       "      <td>65</td>\n",
       "      <td>58</td>\n",
       "      <td>1</td>\n",
       "      <td>1</td>\n",
       "      <td>7181</td>\n",
       "      <td>HYD</td>\n",
       "      <td>95</td>\n",
       "      <td>62</td>\n",
       "      <td>68</td>\n",
       "      <td>0</td>\n",
       "      <td>0</td>\n",
       "      <td>OPEN</td>\n",
       "    </tr>\n",
       "    <tr>\n",
       "      <th>3</th>\n",
       "      <td>7429</td>\n",
       "      <td>67</td>\n",
       "      <td>62</td>\n",
       "      <td>1</td>\n",
       "      <td>0</td>\n",
       "      <td>7429</td>\n",
       "      <td>0</td>\n",
       "      <td>0</td>\n",
       "      <td>65</td>\n",
       "      <td>65</td>\n",
       "      <td>0</td>\n",
       "      <td>0</td>\n",
       "      <td>OPEN</td>\n",
       "    </tr>\n",
       "    <tr>\n",
       "      <th>4</th>\n",
       "      <td>7430</td>\n",
       "      <td>67</td>\n",
       "      <td>59</td>\n",
       "      <td>1</td>\n",
       "      <td>1</td>\n",
       "      <td>7429</td>\n",
       "      <td>0</td>\n",
       "      <td>0</td>\n",
       "      <td>63</td>\n",
       "      <td>63</td>\n",
       "      <td>0</td>\n",
       "      <td>0</td>\n",
       "      <td>OPEN</td>\n",
       "    </tr>\n",
       "  </tbody>\n",
       "</table>\n",
       "</div>"
      ],
      "text/plain": [
       "   RSU_ID  LW_FRONT  LW_BACK  DOOR_ZONE_FRONT  DOOR_ZONE_BACK  SOURCE_CAR_NBR  \\\n",
       "0    7427        69       61                0               0            7427   \n",
       "1    7428        68       60                0               1            7427   \n",
       "2    7182        65       58                1               1            7181   \n",
       "3    7429        67       62                1               0            7429   \n",
       "4    7430        67       59                1               1            7429   \n",
       "\n",
       "  POI_CODE POI_NUM  MIN_BASELINE  THREE_HR_LW_MIN  PASSENGER_LEVEL  \\\n",
       "0      HYD      95            65               65                1   \n",
       "1      HYD      95            63               63                1   \n",
       "2      HYD      95            62               68                0   \n",
       "3        0       0            65               65                0   \n",
       "4        0       0            63               63                0   \n",
       "\n",
       "   NUM_OF_PASSENGERS DOOR_STATUS  \n",
       "0                  3      CLOSED  \n",
       "1                  6      CLOSED  \n",
       "2                  0        OPEN  \n",
       "3                  0        OPEN  \n",
       "4                  0        OPEN  "
      ]
     },
     "execution_count": 311,
     "metadata": {},
     "output_type": "execute_result"
    }
   ],
   "source": [
    "train_data.head()"
   ]
  },
  {
   "cell_type": "code",
   "execution_count": 312,
   "metadata": {},
   "outputs": [
    {
     "data": {
      "text/plain": [
       "RSU_ID               0\n",
       "LW_FRONT             0\n",
       "LW_BACK              0\n",
       "DOOR_ZONE_FRONT      0\n",
       "DOOR_ZONE_BACK       0\n",
       "SOURCE_CAR_NBR       0\n",
       "POI_CODE             0\n",
       "POI_NUM              0\n",
       "MIN_BASELINE         0\n",
       "THREE_HR_LW_MIN      0\n",
       "PASSENGER_LEVEL      0\n",
       "NUM_OF_PASSENGERS    0\n",
       "DOOR_STATUS          0\n",
       "dtype: int64"
      ]
     },
     "execution_count": 312,
     "metadata": {},
     "output_type": "execute_result"
    }
   ],
   "source": [
    "train_data.isna().sum()"
   ]
  },
  {
   "cell_type": "code",
   "execution_count": 313,
   "metadata": {},
   "outputs": [
    {
     "data": {
      "text/plain": [
       "RSU_ID               164\n",
       "LW_FRONT             164\n",
       "LW_BACK              164\n",
       "DOOR_ZONE_FRONT      164\n",
       "DOOR_ZONE_BACK       164\n",
       "SOURCE_CAR_NBR       164\n",
       "POI_CODE             164\n",
       "POI_NUM              164\n",
       "MIN_BASELINE         165\n",
       "THREE_HR_LW_MIN      165\n",
       "PASSENGER_LEVEL      164\n",
       "NUM_OF_PASSENGERS    164\n",
       "DOOR_STATUS          164\n",
       "dtype: int64"
      ]
     },
     "execution_count": 313,
     "metadata": {},
     "output_type": "execute_result"
    }
   ],
   "source": [
    "test_data.isna().sum()"
   ]
  },
  {
   "cell_type": "markdown",
   "metadata": {},
   "source": [
    "Create a function to impute with None"
   ]
  },
  {
   "cell_type": "code",
   "execution_count": 314,
   "metadata": {},
   "outputs": [],
   "source": [
    "\n",
    "def impute_none(imp_none_list):\n",
    "    for i in imp_none_list:\n",
    "        train_data[i] = train_data[i].fillna('None')\n",
    "        test_data[i] = test_data[i].fillna('None')"
   ]
  },
  {
   "cell_type": "code",
   "execution_count": 315,
   "metadata": {},
   "outputs": [],
   "source": [
    "imp_none_list = ['POI_CODE', 'POI_NUM','DOOR_STATUS']\n",
    "impute_none(imp_none_list)"
   ]
  },
  {
   "cell_type": "markdown",
   "metadata": {},
   "source": [
    "Create a function to impute missing values by rounded value of mean"
   ]
  },
  {
   "cell_type": "code",
   "execution_count": 316,
   "metadata": {},
   "outputs": [],
   "source": [
    "\n",
    "def round_mean(imp_mean_list):\n",
    "    for i in imp_mean_list:\n",
    "        train_data[i] = train_data[i].fillna(round(train_data[i].mean()))\n",
    "        test_data[i] = test_data[i].fillna(round(train_data[i].mean()))"
   ]
  },
  {
   "cell_type": "code",
   "execution_count": 317,
   "metadata": {},
   "outputs": [],
   "source": [
    "imp_mean_list = ['RSU_ID', 'LW_FRONT', 'LW_BACK', 'DOOR_ZONE_FRONT', 'DOOR_ZONE_BACK', 'SOURCE_CAR_NBR', 'MIN_BASELINE', 'THREE_HR_LW_MIN', 'PASSENGER_LEVEL', 'NUM_OF_PASSENGERS']\n",
    "round_mean(imp_mean_list)"
   ]
  },
  {
   "cell_type": "markdown",
   "metadata": {},
   "source": [
    "Create a scaled set to be used in model to improve the results"
   ]
  },
  {
   "cell_type": "code",
   "execution_count": 318,
   "metadata": {},
   "outputs": [],
   "source": [
    "\n",
    "from sklearn.preprocessing import minmax_scale\n",
    "train_data[['LW_FRONT', 'LW_BACK', 'DOOR_ZONE_FRONT', 'DOOR_ZONE_BACK', 'MIN_BASELINE', 'THREE_HR_LW_MIN', 'PASSENGER_LEVEL', 'NUM_OF_PASSENGERS']] = minmax_scale(\n",
    "    train_data[['LW_FRONT', 'LW_BACK', 'DOOR_ZONE_FRONT', 'DOOR_ZONE_BACK', 'MIN_BASELINE', 'THREE_HR_LW_MIN', 'PASSENGER_LEVEL', 'NUM_OF_PASSENGERS']])\n",
    "\n",
    "test_data[['LW_FRONT', 'LW_BACK', 'DOOR_ZONE_FRONT', 'DOOR_ZONE_BACK', 'MIN_BASELINE', 'THREE_HR_LW_MIN', 'PASSENGER_LEVEL', 'NUM_OF_PASSENGERS']] = minmax_scale(\n",
    "    test_data[['LW_FRONT', 'LW_BACK', 'DOOR_ZONE_FRONT', 'DOOR_ZONE_BACK', 'MIN_BASELINE', 'THREE_HR_LW_MIN', 'PASSENGER_LEVEL', 'NUM_OF_PASSENGERS']])"
   ]
  },
  {
   "cell_type": "code",
   "execution_count": 319,
   "metadata": {},
   "outputs": [
    {
     "data": {
      "text/html": [
       "<div>\n",
       "<style scoped>\n",
       "    .dataframe tbody tr th:only-of-type {\n",
       "        vertical-align: middle;\n",
       "    }\n",
       "\n",
       "    .dataframe tbody tr th {\n",
       "        vertical-align: top;\n",
       "    }\n",
       "\n",
       "    .dataframe thead th {\n",
       "        text-align: right;\n",
       "    }\n",
       "</style>\n",
       "<table border=\"1\" class=\"dataframe\">\n",
       "  <thead>\n",
       "    <tr style=\"text-align: right;\">\n",
       "      <th></th>\n",
       "      <th>RSU_ID</th>\n",
       "      <th>LW_FRONT</th>\n",
       "      <th>LW_BACK</th>\n",
       "      <th>DOOR_ZONE_FRONT</th>\n",
       "      <th>DOOR_ZONE_BACK</th>\n",
       "      <th>SOURCE_CAR_NBR</th>\n",
       "      <th>POI_CODE</th>\n",
       "      <th>POI_NUM</th>\n",
       "      <th>MIN_BASELINE</th>\n",
       "      <th>THREE_HR_LW_MIN</th>\n",
       "      <th>PASSENGER_LEVEL</th>\n",
       "      <th>NUM_OF_PASSENGERS</th>\n",
       "      <th>DOOR_STATUS</th>\n",
       "    </tr>\n",
       "  </thead>\n",
       "  <tbody>\n",
       "    <tr>\n",
       "      <th>0</th>\n",
       "      <td>7427</td>\n",
       "      <td>0.833333</td>\n",
       "      <td>0.571429</td>\n",
       "      <td>0.0</td>\n",
       "      <td>0.0</td>\n",
       "      <td>7427</td>\n",
       "      <td>HYD</td>\n",
       "      <td>95</td>\n",
       "      <td>0.8</td>\n",
       "      <td>0.571429</td>\n",
       "      <td>1.0</td>\n",
       "      <td>0.166667</td>\n",
       "      <td>CLOSED</td>\n",
       "    </tr>\n",
       "    <tr>\n",
       "      <th>1</th>\n",
       "      <td>7428</td>\n",
       "      <td>0.666667</td>\n",
       "      <td>0.428571</td>\n",
       "      <td>0.0</td>\n",
       "      <td>1.0</td>\n",
       "      <td>7427</td>\n",
       "      <td>HYD</td>\n",
       "      <td>95</td>\n",
       "      <td>0.4</td>\n",
       "      <td>0.285714</td>\n",
       "      <td>1.0</td>\n",
       "      <td>0.333333</td>\n",
       "      <td>CLOSED</td>\n",
       "    </tr>\n",
       "    <tr>\n",
       "      <th>2</th>\n",
       "      <td>7182</td>\n",
       "      <td>0.166667</td>\n",
       "      <td>0.142857</td>\n",
       "      <td>1.0</td>\n",
       "      <td>1.0</td>\n",
       "      <td>7181</td>\n",
       "      <td>HYD</td>\n",
       "      <td>95</td>\n",
       "      <td>0.2</td>\n",
       "      <td>1.000000</td>\n",
       "      <td>0.0</td>\n",
       "      <td>0.000000</td>\n",
       "      <td>OPEN</td>\n",
       "    </tr>\n",
       "    <tr>\n",
       "      <th>3</th>\n",
       "      <td>7429</td>\n",
       "      <td>0.500000</td>\n",
       "      <td>0.714286</td>\n",
       "      <td>1.0</td>\n",
       "      <td>0.0</td>\n",
       "      <td>7429</td>\n",
       "      <td>0</td>\n",
       "      <td>0</td>\n",
       "      <td>0.8</td>\n",
       "      <td>0.571429</td>\n",
       "      <td>0.0</td>\n",
       "      <td>0.000000</td>\n",
       "      <td>OPEN</td>\n",
       "    </tr>\n",
       "    <tr>\n",
       "      <th>4</th>\n",
       "      <td>7430</td>\n",
       "      <td>0.500000</td>\n",
       "      <td>0.285714</td>\n",
       "      <td>1.0</td>\n",
       "      <td>1.0</td>\n",
       "      <td>7429</td>\n",
       "      <td>0</td>\n",
       "      <td>0</td>\n",
       "      <td>0.4</td>\n",
       "      <td>0.285714</td>\n",
       "      <td>0.0</td>\n",
       "      <td>0.000000</td>\n",
       "      <td>OPEN</td>\n",
       "    </tr>\n",
       "  </tbody>\n",
       "</table>\n",
       "</div>"
      ],
      "text/plain": [
       "   RSU_ID  LW_FRONT   LW_BACK  DOOR_ZONE_FRONT  DOOR_ZONE_BACK  \\\n",
       "0    7427  0.833333  0.571429              0.0             0.0   \n",
       "1    7428  0.666667  0.428571              0.0             1.0   \n",
       "2    7182  0.166667  0.142857              1.0             1.0   \n",
       "3    7429  0.500000  0.714286              1.0             0.0   \n",
       "4    7430  0.500000  0.285714              1.0             1.0   \n",
       "\n",
       "   SOURCE_CAR_NBR POI_CODE POI_NUM  MIN_BASELINE  THREE_HR_LW_MIN  \\\n",
       "0            7427      HYD      95           0.8         0.571429   \n",
       "1            7427      HYD      95           0.4         0.285714   \n",
       "2            7181      HYD      95           0.2         1.000000   \n",
       "3            7429        0       0           0.8         0.571429   \n",
       "4            7429        0       0           0.4         0.285714   \n",
       "\n",
       "   PASSENGER_LEVEL  NUM_OF_PASSENGERS DOOR_STATUS  \n",
       "0              1.0           0.166667      CLOSED  \n",
       "1              1.0           0.333333      CLOSED  \n",
       "2              0.0           0.000000        OPEN  \n",
       "3              0.0           0.000000        OPEN  \n",
       "4              0.0           0.000000        OPEN  "
      ]
     },
     "execution_count": 319,
     "metadata": {},
     "output_type": "execute_result"
    }
   ],
   "source": [
    "train_data.head()"
   ]
  },
  {
   "cell_type": "markdown",
   "metadata": {},
   "source": [
    "Function to LabelEncode all the non numerical values"
   ]
  },
  {
   "cell_type": "code",
   "execution_count": 320,
   "metadata": {},
   "outputs": [],
   "source": [
    "\n",
    "def create_dummies(df):\n",
    "    for i in df.columns:\n",
    "        if df[i].dtypes=='object':\n",
    "            print(i,'encoded')\n",
    "            mask = ~df[i].isnull()\n",
    "            label_encoder = LabelEncoder() \n",
    "            try:\n",
    "                df[i][mask] = label_encoder.fit_transform(df[i][mask])\n",
    "                df[i] = df[i].astype(int)\n",
    "            except Exception as e:\n",
    "                print(e)\n",
    "    return df"
   ]
  },
  {
   "cell_type": "code",
   "execution_count": 321,
   "metadata": {},
   "outputs": [
    {
     "name": "stdout",
     "output_type": "stream",
     "text": [
      "POI_CODE encoded\n",
      "POI_NUM encoded\n",
      "DOOR_STATUS encoded\n"
     ]
    },
    {
     "name": "stderr",
     "output_type": "stream",
     "text": [
      "/Users/priyashaji/opt/anaconda3/lib/python3.7/site-packages/ipykernel_launcher.py:8: SettingWithCopyWarning: \n",
      "A value is trying to be set on a copy of a slice from a DataFrame\n",
      "\n",
      "See the caveats in the documentation: https://pandas.pydata.org/pandas-docs/stable/user_guide/indexing.html#returning-a-view-versus-a-copy\n",
      "  \n"
     ]
    }
   ],
   "source": [
    "train_data = create_dummies(train_data)"
   ]
  },
  {
   "cell_type": "code",
   "execution_count": 322,
   "metadata": {},
   "outputs": [
    {
     "name": "stdout",
     "output_type": "stream",
     "text": [
      "POI_CODE encoded\n",
      "POI_NUM encoded\n",
      "DOOR_STATUS encoded\n"
     ]
    },
    {
     "name": "stderr",
     "output_type": "stream",
     "text": [
      "/Users/priyashaji/opt/anaconda3/lib/python3.7/site-packages/ipykernel_launcher.py:8: SettingWithCopyWarning: \n",
      "A value is trying to be set on a copy of a slice from a DataFrame\n",
      "\n",
      "See the caveats in the documentation: https://pandas.pydata.org/pandas-docs/stable/user_guide/indexing.html#returning-a-view-versus-a-copy\n",
      "  \n"
     ]
    }
   ],
   "source": [
    "test_data = create_dummies(test_data)"
   ]
  },
  {
   "cell_type": "code",
   "execution_count": 323,
   "metadata": {},
   "outputs": [
    {
     "data": {
      "text/plain": [
       "RSU_ID                 int64\n",
       "LW_FRONT             float64\n",
       "LW_BACK              float64\n",
       "DOOR_ZONE_FRONT      float64\n",
       "DOOR_ZONE_BACK       float64\n",
       "SOURCE_CAR_NBR         int64\n",
       "POI_CODE               int64\n",
       "POI_NUM                int64\n",
       "MIN_BASELINE         float64\n",
       "THREE_HR_LW_MIN      float64\n",
       "PASSENGER_LEVEL      float64\n",
       "NUM_OF_PASSENGERS    float64\n",
       "DOOR_STATUS            int64\n",
       "dtype: object"
      ]
     },
     "execution_count": 323,
     "metadata": {},
     "output_type": "execute_result"
    }
   ],
   "source": [
    "train_data.dtypes"
   ]
  },
  {
   "cell_type": "code",
   "execution_count": 324,
   "metadata": {},
   "outputs": [
    {
     "data": {
      "text/plain": [
       "RSU_ID               float64\n",
       "LW_FRONT             float64\n",
       "LW_BACK              float64\n",
       "DOOR_ZONE_FRONT      float64\n",
       "DOOR_ZONE_BACK       float64\n",
       "SOURCE_CAR_NBR       float64\n",
       "POI_CODE               int64\n",
       "POI_NUM                int64\n",
       "MIN_BASELINE         float64\n",
       "THREE_HR_LW_MIN      float64\n",
       "PASSENGER_LEVEL      float64\n",
       "NUM_OF_PASSENGERS    float64\n",
       "DOOR_STATUS            int64\n",
       "dtype: object"
      ]
     },
     "execution_count": 324,
     "metadata": {},
     "output_type": "execute_result"
    }
   ],
   "source": [
    "test_data.dtypes"
   ]
  },
  {
   "cell_type": "markdown",
   "metadata": {},
   "source": [
    "Plot a heatmap for all the variables"
   ]
  },
  {
   "cell_type": "code",
   "execution_count": 325,
   "metadata": {},
   "outputs": [
    {
     "data": {
      "image/png": "[encoded data removed]",
      "text/plain": [
       "<Figure size 1440x1440 with 2 Axes>"
      ]
     },
     "metadata": {
      "needs_background": "light"
     },
     "output_type": "display_data"
    }
   ],
   "source": [
    "\n",
    "corr = train_data.corr()\n",
    "plt.figure(figsize=(20,20))\n",
    "sns.heatmap(corr, cbar=True, square= True, fmt='.1f', annot=True, annot_kws={'size':20}, cmap='Greens')\n",
    "plt.title('Correlation Matrix \\n (use for reference)', fontsize=14)\n",
    "plt.show()"
   ]
  },
  {
   "cell_type": "markdown",
   "metadata": {},
   "source": [
    "From the above heatmap, we can analyze that our target variable \"MIN_BASELINE\" is affected by \"LW_FRONT\" \"LW_BACK\" \"THREE_HR_LW_MIN\""
   ]
  },
  {
   "cell_type": "markdown",
   "metadata": {},
   "source": [
    "Undersampling before cross validating (prone to overfit)"
   ]
  },
  {
   "cell_type": "code",
   "execution_count": 326,
   "metadata": {},
   "outputs": [],
   "source": [
    "X = train_data.drop('MIN_BASELINE', axis=1)  #Feature Matrix\n",
    "y = train_data['MIN_BASELINE']   #Target Variable"
   ]
  },
  {
   "cell_type": "code",
   "execution_count": 327,
   "metadata": {},
   "outputs": [],
   "source": [
    "from sklearn.feature_selection import RFE\n",
    "from sklearn.linear_model import RidgeCV, LassoCV, Ridge, Lasso"
   ]
  },
  {
   "cell_type": "code",
   "execution_count": 328,
   "metadata": {},
   "outputs": [
    {
     "data": {
      "text/plain": [
       "0    0.8\n",
       "1    0.4\n",
       "2    0.2\n",
       "3    0.8\n",
       "4    0.4\n",
       "Name: MIN_BASELINE, dtype: float64"
      ]
     },
     "execution_count": 328,
     "metadata": {},
     "output_type": "execute_result"
    }
   ],
   "source": [
    "y.head()"
   ]
  },
  {
   "cell_type": "markdown",
   "metadata": {},
   "source": [
    "### Feature Extraction"
   ]
  },
  {
   "cell_type": "markdown",
   "metadata": {},
   "source": [
    "Embedded Method\n",
    "\n",
    "Embedded methods are iterative in a sense that takes care of each iteration of the model training process and carefully extract those features which contribute the most to the training for a particular iteration\n",
    "\n",
    "Here we will do feature selection using Lasso regularization. If the feature is irrelevant, lasso penalizes it’s coefficient and make it 0. Hence the features with coefficient = 0 are removed and the rest are taken."
   ]
  },
  {
   "cell_type": "code",
   "execution_count": 329,
   "metadata": {},
   "outputs": [
    {
     "name": "stdout",
     "output_type": "stream",
     "text": [
      "Best alpha using built-in LassoCV: 0.001177\n",
      "Best score using built-in LassoCV: 0.944646\n"
     ]
    }
   ],
   "source": [
    "reg = LassoCV()\n",
    "reg.fit(X, y)\n",
    "print(\"Best alpha using built-in LassoCV: %f\" % reg.alpha_)\n",
    "print(\"Best score using built-in LassoCV: %f\" %reg.score(X,y))\n",
    "coef = pd.Series(reg.coef_, index = X.columns)"
   ]
  },
  {
   "cell_type": "code",
   "execution_count": 330,
   "metadata": {},
   "outputs": [
    {
     "name": "stdout",
     "output_type": "stream",
     "text": [
      "Lasso picked 8 variables and eliminated the other 4 variables\n"
     ]
    }
   ],
   "source": [
    "print(\"Lasso picked \" + str(sum(coef != 0)) + \" variables and eliminated the other \" +  str(sum(coef == 0)) + \" variables\")"
   ]
  },
  {
   "cell_type": "code",
   "execution_count": 331,
   "metadata": {},
   "outputs": [
    {
     "data": {
      "text/plain": [
       "Text(0.5, 1.0, 'Feature importance using Lasso Model')"
      ]
     },
     "execution_count": 331,
     "metadata": {},
     "output_type": "execute_result"
    },
    {
     "data": {
      "image/png": "[encoded data removed]",
      "text/plain": [
       "<Figure size 576x720 with 1 Axes>"
      ]
     },
     "metadata": {
      "needs_background": "light"
     },
     "output_type": "display_data"
    }
   ],
   "source": [
    "imp_coef = coef.sort_values()\n",
    "import matplotlib\n",
    "matplotlib.rcParams['figure.figsize'] = (8.0, 10.0)\n",
    "imp_coef.plot(kind = \"barh\")\n",
    "plt.title(\"Feature importance using Lasso Model\")"
   ]
  },
  {
   "cell_type": "markdown",
   "metadata": {},
   "source": [
    "From the above graph, we can see all the features extracted by Embedded method. We will be using these columns in our dataset for training of machine learning models."
   ]
  },
  {
   "cell_type": "code",
   "execution_count": 332,
   "metadata": {},
   "outputs": [
    {
     "data": {
      "text/plain": [
       "RSU_ID                True\n",
       "LW_FRONT              True\n",
       "LW_BACK               True\n",
       "DOOR_ZONE_FRONT      False\n",
       "DOOR_ZONE_BACK        True\n",
       "SOURCE_CAR_NBR        True\n",
       "POI_CODE             False\n",
       "POI_NUM               True\n",
       "THREE_HR_LW_MIN      False\n",
       "PASSENGER_LEVEL       True\n",
       "NUM_OF_PASSENGERS     True\n",
       "DOOR_STATUS          False\n",
       "dtype: bool"
      ]
     },
     "execution_count": 332,
     "metadata": {},
     "output_type": "execute_result"
    }
   ],
   "source": [
    "coef!=0"
   ]
  },
  {
   "cell_type": "code",
   "execution_count": 333,
   "metadata": {},
   "outputs": [
    {
     "data": {
      "text/html": [
       "<div>\n",
       "<style scoped>\n",
       "    .dataframe tbody tr th:only-of-type {\n",
       "        vertical-align: middle;\n",
       "    }\n",
       "\n",
       "    .dataframe tbody tr th {\n",
       "        vertical-align: top;\n",
       "    }\n",
       "\n",
       "    .dataframe thead th {\n",
       "        text-align: right;\n",
       "    }\n",
       "</style>\n",
       "<table border=\"1\" class=\"dataframe\">\n",
       "  <thead>\n",
       "    <tr style=\"text-align: right;\">\n",
       "      <th></th>\n",
       "      <th>RSU_ID</th>\n",
       "      <th>LW_FRONT</th>\n",
       "      <th>LW_BACK</th>\n",
       "      <th>DOOR_ZONE_FRONT</th>\n",
       "      <th>DOOR_ZONE_BACK</th>\n",
       "      <th>SOURCE_CAR_NBR</th>\n",
       "      <th>POI_CODE</th>\n",
       "      <th>POI_NUM</th>\n",
       "      <th>MIN_BASELINE</th>\n",
       "      <th>THREE_HR_LW_MIN</th>\n",
       "      <th>PASSENGER_LEVEL</th>\n",
       "      <th>NUM_OF_PASSENGERS</th>\n",
       "      <th>DOOR_STATUS</th>\n",
       "    </tr>\n",
       "  </thead>\n",
       "  <tbody>\n",
       "    <tr>\n",
       "      <th>0</th>\n",
       "      <td>7427</td>\n",
       "      <td>0.833333</td>\n",
       "      <td>0.571429</td>\n",
       "      <td>0.0</td>\n",
       "      <td>0.0</td>\n",
       "      <td>7427</td>\n",
       "      <td>3</td>\n",
       "      <td>6</td>\n",
       "      <td>0.8</td>\n",
       "      <td>0.571429</td>\n",
       "      <td>1.0</td>\n",
       "      <td>0.166667</td>\n",
       "      <td>0</td>\n",
       "    </tr>\n",
       "    <tr>\n",
       "      <th>1</th>\n",
       "      <td>7428</td>\n",
       "      <td>0.666667</td>\n",
       "      <td>0.428571</td>\n",
       "      <td>0.0</td>\n",
       "      <td>1.0</td>\n",
       "      <td>7427</td>\n",
       "      <td>3</td>\n",
       "      <td>6</td>\n",
       "      <td>0.4</td>\n",
       "      <td>0.285714</td>\n",
       "      <td>1.0</td>\n",
       "      <td>0.333333</td>\n",
       "      <td>0</td>\n",
       "    </tr>\n",
       "    <tr>\n",
       "      <th>2</th>\n",
       "      <td>7182</td>\n",
       "      <td>0.166667</td>\n",
       "      <td>0.142857</td>\n",
       "      <td>1.0</td>\n",
       "      <td>1.0</td>\n",
       "      <td>7181</td>\n",
       "      <td>3</td>\n",
       "      <td>6</td>\n",
       "      <td>0.2</td>\n",
       "      <td>1.000000</td>\n",
       "      <td>0.0</td>\n",
       "      <td>0.000000</td>\n",
       "      <td>1</td>\n",
       "    </tr>\n",
       "    <tr>\n",
       "      <th>3</th>\n",
       "      <td>7429</td>\n",
       "      <td>0.500000</td>\n",
       "      <td>0.714286</td>\n",
       "      <td>1.0</td>\n",
       "      <td>0.0</td>\n",
       "      <td>7429</td>\n",
       "      <td>0</td>\n",
       "      <td>0</td>\n",
       "      <td>0.8</td>\n",
       "      <td>0.571429</td>\n",
       "      <td>0.0</td>\n",
       "      <td>0.000000</td>\n",
       "      <td>1</td>\n",
       "    </tr>\n",
       "    <tr>\n",
       "      <th>4</th>\n",
       "      <td>7430</td>\n",
       "      <td>0.500000</td>\n",
       "      <td>0.285714</td>\n",
       "      <td>1.0</td>\n",
       "      <td>1.0</td>\n",
       "      <td>7429</td>\n",
       "      <td>0</td>\n",
       "      <td>0</td>\n",
       "      <td>0.4</td>\n",
       "      <td>0.285714</td>\n",
       "      <td>0.0</td>\n",
       "      <td>0.000000</td>\n",
       "      <td>1</td>\n",
       "    </tr>\n",
       "  </tbody>\n",
       "</table>\n",
       "</div>"
      ],
      "text/plain": [
       "   RSU_ID  LW_FRONT   LW_BACK  DOOR_ZONE_FRONT  DOOR_ZONE_BACK  \\\n",
       "0    7427  0.833333  0.571429              0.0             0.0   \n",
       "1    7428  0.666667  0.428571              0.0             1.0   \n",
       "2    7182  0.166667  0.142857              1.0             1.0   \n",
       "3    7429  0.500000  0.714286              1.0             0.0   \n",
       "4    7430  0.500000  0.285714              1.0             1.0   \n",
       "\n",
       "   SOURCE_CAR_NBR  POI_CODE  POI_NUM  MIN_BASELINE  THREE_HR_LW_MIN  \\\n",
       "0            7427         3        6           0.8         0.571429   \n",
       "1            7427         3        6           0.4         0.285714   \n",
       "2            7181         3        6           0.2         1.000000   \n",
       "3            7429         0        0           0.8         0.571429   \n",
       "4            7429         0        0           0.4         0.285714   \n",
       "\n",
       "   PASSENGER_LEVEL  NUM_OF_PASSENGERS  DOOR_STATUS  \n",
       "0              1.0           0.166667            0  \n",
       "1              1.0           0.333333            0  \n",
       "2              0.0           0.000000            1  \n",
       "3              0.0           0.000000            1  \n",
       "4              0.0           0.000000            1  "
      ]
     },
     "execution_count": 333,
     "metadata": {},
     "output_type": "execute_result"
    }
   ],
   "source": [
    "\n",
    "train_data.head()"
   ]
  },
  {
   "cell_type": "code",
   "execution_count": 334,
   "metadata": {},
   "outputs": [
    {
     "data": {
      "text/html": [
       "<div>\n",
       "<style scoped>\n",
       "    .dataframe tbody tr th:only-of-type {\n",
       "        vertical-align: middle;\n",
       "    }\n",
       "\n",
       "    .dataframe tbody tr th {\n",
       "        vertical-align: top;\n",
       "    }\n",
       "\n",
       "    .dataframe thead th {\n",
       "        text-align: right;\n",
       "    }\n",
       "</style>\n",
       "<table border=\"1\" class=\"dataframe\">\n",
       "  <thead>\n",
       "    <tr style=\"text-align: right;\">\n",
       "      <th></th>\n",
       "      <th>RSU_ID</th>\n",
       "      <th>LW_FRONT</th>\n",
       "      <th>LW_BACK</th>\n",
       "      <th>DOOR_ZONE_BACK</th>\n",
       "      <th>SOURCE_CAR_NBR</th>\n",
       "      <th>POI_NUM</th>\n",
       "      <th>PASSENGER_LEVEL</th>\n",
       "      <th>NUM_OF_PASSENGERS</th>\n",
       "    </tr>\n",
       "  </thead>\n",
       "  <tbody>\n",
       "    <tr>\n",
       "      <th>0</th>\n",
       "      <td>7427</td>\n",
       "      <td>0.833333</td>\n",
       "      <td>0.571429</td>\n",
       "      <td>0.0</td>\n",
       "      <td>7427</td>\n",
       "      <td>6</td>\n",
       "      <td>1.0</td>\n",
       "      <td>0.166667</td>\n",
       "    </tr>\n",
       "    <tr>\n",
       "      <th>1</th>\n",
       "      <td>7428</td>\n",
       "      <td>0.666667</td>\n",
       "      <td>0.428571</td>\n",
       "      <td>1.0</td>\n",
       "      <td>7427</td>\n",
       "      <td>6</td>\n",
       "      <td>1.0</td>\n",
       "      <td>0.333333</td>\n",
       "    </tr>\n",
       "    <tr>\n",
       "      <th>2</th>\n",
       "      <td>7182</td>\n",
       "      <td>0.166667</td>\n",
       "      <td>0.142857</td>\n",
       "      <td>1.0</td>\n",
       "      <td>7181</td>\n",
       "      <td>6</td>\n",
       "      <td>0.0</td>\n",
       "      <td>0.000000</td>\n",
       "    </tr>\n",
       "    <tr>\n",
       "      <th>3</th>\n",
       "      <td>7429</td>\n",
       "      <td>0.500000</td>\n",
       "      <td>0.714286</td>\n",
       "      <td>0.0</td>\n",
       "      <td>7429</td>\n",
       "      <td>0</td>\n",
       "      <td>0.0</td>\n",
       "      <td>0.000000</td>\n",
       "    </tr>\n",
       "    <tr>\n",
       "      <th>4</th>\n",
       "      <td>7430</td>\n",
       "      <td>0.500000</td>\n",
       "      <td>0.285714</td>\n",
       "      <td>1.0</td>\n",
       "      <td>7429</td>\n",
       "      <td>0</td>\n",
       "      <td>0.0</td>\n",
       "      <td>0.000000</td>\n",
       "    </tr>\n",
       "  </tbody>\n",
       "</table>\n",
       "</div>"
      ],
      "text/plain": [
       "   RSU_ID  LW_FRONT   LW_BACK  DOOR_ZONE_BACK  SOURCE_CAR_NBR  POI_NUM  \\\n",
       "0    7427  0.833333  0.571429             0.0            7427        6   \n",
       "1    7428  0.666667  0.428571             1.0            7427        6   \n",
       "2    7182  0.166667  0.142857             1.0            7181        6   \n",
       "3    7429  0.500000  0.714286             0.0            7429        0   \n",
       "4    7430  0.500000  0.285714             1.0            7429        0   \n",
       "\n",
       "   PASSENGER_LEVEL  NUM_OF_PASSENGERS  \n",
       "0              1.0           0.166667  \n",
       "1              1.0           0.333333  \n",
       "2              0.0           0.000000  \n",
       "3              0.0           0.000000  \n",
       "4              0.0           0.000000  "
      ]
     },
     "execution_count": 334,
     "metadata": {},
     "output_type": "execute_result"
    }
   ],
   "source": [
    "drop_list = [\"RSU_ID\", \"LW_FRONT\", \"LW_BACK\", \"DOOR_ZONE_BACK\", \"SOURCE_CAR_NBR\", \"POI_NUM\", \"PASSENGER_LEVEL\", \"NUM_OF_PASSENGERS\"]\n",
    "X = train_data.drop(train_data.columns.difference(drop_list), axis=1)\n",
    "X.head()"
   ]
  },
  {
   "cell_type": "code",
   "execution_count": 335,
   "metadata": {},
   "outputs": [
    {
     "data": {
      "text/html": [
       "<div>\n",
       "<style scoped>\n",
       "    .dataframe tbody tr th:only-of-type {\n",
       "        vertical-align: middle;\n",
       "    }\n",
       "\n",
       "    .dataframe tbody tr th {\n",
       "        vertical-align: top;\n",
       "    }\n",
       "\n",
       "    .dataframe thead th {\n",
       "        text-align: right;\n",
       "    }\n",
       "</style>\n",
       "<table border=\"1\" class=\"dataframe\">\n",
       "  <thead>\n",
       "    <tr style=\"text-align: right;\">\n",
       "      <th></th>\n",
       "      <th>RSU_ID</th>\n",
       "      <th>LW_FRONT</th>\n",
       "      <th>LW_BACK</th>\n",
       "      <th>DOOR_ZONE_BACK</th>\n",
       "      <th>SOURCE_CAR_NBR</th>\n",
       "      <th>POI_NUM</th>\n",
       "      <th>PASSENGER_LEVEL</th>\n",
       "      <th>NUM_OF_PASSENGERS</th>\n",
       "    </tr>\n",
       "  </thead>\n",
       "  <tbody>\n",
       "    <tr>\n",
       "      <th>0</th>\n",
       "      <td>7264.0</td>\n",
       "      <td>0.015625</td>\n",
       "      <td>0.015075</td>\n",
       "      <td>1.0</td>\n",
       "      <td>7766.0</td>\n",
       "      <td>0</td>\n",
       "      <td>1.0</td>\n",
       "      <td>0.28</td>\n",
       "    </tr>\n",
       "    <tr>\n",
       "      <th>1</th>\n",
       "      <td>7765.0</td>\n",
       "      <td>0.020833</td>\n",
       "      <td>0.020101</td>\n",
       "      <td>0.0</td>\n",
       "      <td>7766.0</td>\n",
       "      <td>0</td>\n",
       "      <td>1.0</td>\n",
       "      <td>0.28</td>\n",
       "    </tr>\n",
       "    <tr>\n",
       "      <th>2</th>\n",
       "      <td>7766.0</td>\n",
       "      <td>0.020833</td>\n",
       "      <td>0.020101</td>\n",
       "      <td>1.0</td>\n",
       "      <td>7766.0</td>\n",
       "      <td>0</td>\n",
       "      <td>1.0</td>\n",
       "      <td>0.28</td>\n",
       "    </tr>\n",
       "    <tr>\n",
       "      <th>3</th>\n",
       "      <td>7576.0</td>\n",
       "      <td>0.020833</td>\n",
       "      <td>0.015075</td>\n",
       "      <td>1.0</td>\n",
       "      <td>7766.0</td>\n",
       "      <td>0</td>\n",
       "      <td>1.0</td>\n",
       "      <td>0.28</td>\n",
       "    </tr>\n",
       "    <tr>\n",
       "      <th>4</th>\n",
       "      <td>7575.0</td>\n",
       "      <td>0.020833</td>\n",
       "      <td>0.020101</td>\n",
       "      <td>0.0</td>\n",
       "      <td>7766.0</td>\n",
       "      <td>0</td>\n",
       "      <td>1.0</td>\n",
       "      <td>0.16</td>\n",
       "    </tr>\n",
       "  </tbody>\n",
       "</table>\n",
       "</div>"
      ],
      "text/plain": [
       "   RSU_ID  LW_FRONT   LW_BACK  DOOR_ZONE_BACK  SOURCE_CAR_NBR  POI_NUM  \\\n",
       "0  7264.0  0.015625  0.015075             1.0          7766.0        0   \n",
       "1  7765.0  0.020833  0.020101             0.0          7766.0        0   \n",
       "2  7766.0  0.020833  0.020101             1.0          7766.0        0   \n",
       "3  7576.0  0.020833  0.015075             1.0          7766.0        0   \n",
       "4  7575.0  0.020833  0.020101             0.0          7766.0        0   \n",
       "\n",
       "   PASSENGER_LEVEL  NUM_OF_PASSENGERS  \n",
       "0              1.0               0.28  \n",
       "1              1.0               0.28  \n",
       "2              1.0               0.28  \n",
       "3              1.0               0.28  \n",
       "4              1.0               0.16  "
      ]
     },
     "execution_count": 335,
     "metadata": {},
     "output_type": "execute_result"
    }
   ],
   "source": [
    "new_columns = X.columns\n",
    "test_data = test_data[new_columns]\n",
    "test_data.head()"
   ]
  },
  {
   "cell_type": "markdown",
   "metadata": {},
   "source": [
    "Converting y label datatype as \"multiclass\" to be used in splitting of our dataset"
   ]
  },
  {
   "cell_type": "code",
   "execution_count": 336,
   "metadata": {},
   "outputs": [
    {
     "name": "stdout",
     "output_type": "stream",
     "text": [
      "[4 2 1 4 2 3 5 1 4 2 3 1 1 1 1 3 4 2 2 3 1 2 1 2 2 3 2 2 3 2 4 4 1 2 3 2 3\n",
      " 0 2 1 1 3 2 1 3 4 2 4 2 2 4 2 3 1 3 4 2 1 4 3 1 2 0 3 5 2 4 4 2 2 4 2 2 3\n",
      " 3 2 1 2 2 4 3 2 3 3 2 5 3 1 1 4 2 4 3 2 3 2 2 4 2 4 1 2 3 1 1 4 1 1 2 3 2\n",
      " 2 1 3 2 0 1 1 2 2 3 3 1 1 1 2 2 3 1 3 3 2 3 1 3 2 3 1 2 2 3 1 3 2 1 2 1 2\n",
      " 1 2 4 2 3 3 2 1 3 2 3 1 4 2 3 2]\n",
      "continuous\n",
      "binary\n",
      "multiclass\n"
     ]
    }
   ],
   "source": [
    "lab_enc = preprocessing.LabelEncoder()\n",
    "training_scores_encoded = lab_enc.fit_transform(y)\n",
    "print(training_scores_encoded)\n",
    "print(utils.multiclass.type_of_target(y))\n",
    "print(utils.multiclass.type_of_target(y.astype('int')))\n",
    "print(utils.multiclass.type_of_target(training_scores_encoded))\n",
    "\n",
    "#training_scores_encoded = y"
   ]
  },
  {
   "cell_type": "markdown",
   "metadata": {},
   "source": [
    "Splitting the data into training set and test set"
   ]
  },
  {
   "cell_type": "code",
   "execution_count": 337,
   "metadata": {},
   "outputs": [],
   "source": [
    "#from sklearn.model_selection import train_test_split\n",
    "X_train, X_test, y_train, y_test = train_test_split(X,training_scores_encoded, test_size = 0.20, random_state = 42)"
   ]
  },
  {
   "cell_type": "markdown",
   "metadata": {},
   "source": [
    "Create a function to create confusion matrix function to find out sensitivity and specificity"
   ]
  },
  {
   "cell_type": "code",
   "execution_count": 338,
   "metadata": {},
   "outputs": [],
   "source": [
    "def draw_cm(actual, predicted):\n",
    "    cm = confusion_matrix( actual, predicted, [1,0]).T\n",
    "    sns.heatmap(cm, annot=True,  fmt='.2f', xticklabels = [\"Yes\",\"No\"] , yticklabels = [\"Yes\",\"No\"] )\n",
    "    plt.ylabel('Predicted')\n",
    "    plt.xlabel('Actual')\n",
    "    plt.show()"
   ]
  },
  {
   "cell_type": "markdown",
   "metadata": {},
   "source": [
    "### Machine Learning Models"
   ]
  },
  {
   "cell_type": "markdown",
   "metadata": {},
   "source": [
    "#### Logistic Regression"
   ]
  },
  {
   "cell_type": "code",
   "execution_count": 339,
   "metadata": {},
   "outputs": [
    {
     "name": "stderr",
     "output_type": "stream",
     "text": [
      "/Users/priyashaji/opt/anaconda3/lib/python3.7/site-packages/sklearn/linear_model/_logistic.py:940: ConvergenceWarning: lbfgs failed to converge (status=1):\n",
      "STOP: TOTAL NO. of ITERATIONS REACHED LIMIT.\n",
      "\n",
      "Increase the number of iterations (max_iter) or scale the data as shown in:\n",
      "    https://scikit-learn.org/stable/modules/preprocessing.html\n",
      "Please also refer to the documentation for alternative solver options:\n",
      "    https://scikit-learn.org/stable/modules/linear_model.html#logistic-regression\n",
      "  extra_warning_msg=_LOGISTIC_SOLVER_CONVERGENCE_MSG)\n"
     ]
    },
    {
     "data": {
      "text/plain": [
       "LogisticRegression(C=1.0, class_weight=None, dual=False, fit_intercept=True,\n",
       "                   intercept_scaling=1, l1_ratio=None, max_iter=100,\n",
       "                   multi_class='auto', n_jobs=None, penalty='l2',\n",
       "                   random_state=None, solver='lbfgs', tol=0.0001, verbose=0,\n",
       "                   warm_start=False)"
      ]
     },
     "execution_count": 339,
     "metadata": {},
     "output_type": "execute_result"
    }
   ],
   "source": [
    "\n",
    "# Import library for LogisticRegression\n",
    "from sklearn.linear_model import LogisticRegression\n",
    "\n",
    "# Create a Logistic regression classifier\n",
    "logreg = LogisticRegression()\n",
    "\n",
    "# Train the model using the training sets \n",
    "logreg.fit(X_train, y_train)"
   ]
  },
  {
   "cell_type": "code",
   "execution_count": 340,
   "metadata": {},
   "outputs": [],
   "source": [
    "# Prediction on test data\n",
    "y_pred = logreg.predict(X_test)"
   ]
  },
  {
   "cell_type": "code",
   "execution_count": 341,
   "metadata": {},
   "outputs": [
    {
     "name": "stdout",
     "output_type": "stream",
     "text": [
      "Total Accuracy :  45.45\n",
      "F1-score :  30.3\n"
     ]
    }
   ],
   "source": [
    "# Calculating the accuracy, precision and the recall\n",
    "from sklearn.metrics import f1_score, classification_report\n",
    "acc_logreg = round( metrics.accuracy_score(y_test, y_pred) * 100, 2 )\n",
    "f1_logreg = round(f1_score(y_test, y_pred, average='weighted') * 100, 2)\n",
    "print( 'Total Accuracy : ', acc_logreg )\n",
    "print( 'F1-score : ', f1_logreg)"
   ]
  },
  {
   "cell_type": "markdown",
   "metadata": {},
   "source": [
    "### Gaussian Naive Bayes"
   ]
  },
  {
   "cell_type": "code",
   "execution_count": 342,
   "metadata": {},
   "outputs": [
    {
     "data": {
      "text/plain": [
       "GaussianNB(priors=None, var_smoothing=1e-09)"
      ]
     },
     "execution_count": 342,
     "metadata": {},
     "output_type": "execute_result"
    }
   ],
   "source": [
    "# Import library of Gaussian Naive Bayes model\n",
    "from sklearn.naive_bayes import GaussianNB\n",
    "\n",
    "# Create a Gaussian Classifier\n",
    "model = GaussianNB()\n",
    "\n",
    "# Train the model using the training sets \n",
    "model.fit(X_train,y_train)"
   ]
  },
  {
   "cell_type": "code",
   "execution_count": 343,
   "metadata": {},
   "outputs": [],
   "source": [
    "# Prediction on test set\n",
    "y_pred = model.predict(X_test)"
   ]
  },
  {
   "cell_type": "code",
   "execution_count": 344,
   "metadata": {},
   "outputs": [
    {
     "name": "stdout",
     "output_type": "stream",
     "text": [
      "Total Accuracy :  57.58\n"
     ]
    }
   ],
   "source": [
    "# Calculating the accuracy, precision and the recall\n",
    "acc_nb = round( metrics.accuracy_score(y_test, y_pred) * 100, 2 )\n",
    "print( 'Total Accuracy : ', acc_nb )"
   ]
  },
  {
   "cell_type": "markdown",
   "metadata": {},
   "source": [
    "### Decision Tree Classifier"
   ]
  },
  {
   "cell_type": "code",
   "execution_count": 345,
   "metadata": {},
   "outputs": [
    {
     "data": {
      "text/plain": [
       "DecisionTreeClassifier(ccp_alpha=0.0, class_weight=None, criterion='gini',\n",
       "                       max_depth=None, max_features=None, max_leaf_nodes=None,\n",
       "                       min_impurity_decrease=0.0, min_impurity_split=None,\n",
       "                       min_samples_leaf=1, min_samples_split=2,\n",
       "                       min_weight_fraction_leaf=0.0, presort='deprecated',\n",
       "                       random_state=None, splitter='best')"
      ]
     },
     "execution_count": 345,
     "metadata": {},
     "output_type": "execute_result"
    }
   ],
   "source": [
    "# Import Decision tree classifier\n",
    "from sklearn.tree import DecisionTreeClassifier\n",
    "\n",
    "# Create a Decision tree classifier model\n",
    "clf = DecisionTreeClassifier()\n",
    "\n",
    "# Train the model using the training sets \n",
    "clf.fit(X_train, y_train)"
   ]
  },
  {
   "cell_type": "code",
   "execution_count": 346,
   "metadata": {},
   "outputs": [],
   "source": [
    "# Model prediction on train data\n",
    "y_pred = clf.predict(X_train)"
   ]
  },
  {
   "cell_type": "code",
   "execution_count": 347,
   "metadata": {},
   "outputs": [],
   "source": [
    "# Finding the variable with more importance\n",
    "feature_importance = pd.DataFrame([X_train.columns, clf.tree_.compute_feature_importances()])\n",
    "feature_importance = feature_importance.T.sort_values(by = 1, ascending=False)[1:10]\n"
   ]
  },
  {
   "cell_type": "code",
   "execution_count": 348,
   "metadata": {},
   "outputs": [
    {
     "name": "stderr",
     "output_type": "stream",
     "text": [
      "No handles with labels found to put in legend.\n"
     ]
    },
    {
     "data": {
      "image/png": "[encoded data removed]",
      "text/plain": [
       "<Figure size 576x720 with 1 Axes>"
      ]
     },
     "metadata": {
      "needs_background": "light"
     },
     "output_type": "display_data"
    }
   ],
   "source": [
    "sns.barplot(x=feature_importance[1], y=feature_importance[0])\n",
    "# Add labels to the graph\n",
    "plt.xlabel('Feature Importance Score')\n",
    "plt.ylabel('Features')\n",
    "plt.title(\"Visualizing Important Features\")\n",
    "plt.legend()\n",
    "plt.show()"
   ]
  },
  {
   "cell_type": "markdown",
   "metadata": {},
   "source": [
    "Using \"compute_feature_importances\" function of Decision Tree Classifier, we can see from above grapg that \"LW_FRONT\" is an important feature for prediction of our model"
   ]
  },
  {
   "cell_type": "markdown",
   "metadata": {},
   "source": [
    "# Prediction on test set\n"
   ]
  },
  {
   "cell_type": "code",
   "execution_count": 350,
   "metadata": {},
   "outputs": [],
   "source": [
    "y_pred = clf.predict(X_test)"
   ]
  },
  {
   "cell_type": "code",
   "execution_count": 351,
   "metadata": {},
   "outputs": [
    {
     "name": "stdout",
     "output_type": "stream",
     "text": [
      "Total Accuracy :  78.79\n"
     ]
    }
   ],
   "source": [
    "# Calculating the accuracy, precision and the recall\n",
    "acc_dt = round( metrics.accuracy_score(y_test, y_pred) * 100, 2 )\n",
    "print( 'Total Accuracy : ', acc_dt )"
   ]
  },
  {
   "cell_type": "markdown",
   "metadata": {},
   "source": [
    "### Random Forest Classifier"
   ]
  },
  {
   "cell_type": "code",
   "execution_count": 353,
   "metadata": {},
   "outputs": [
    {
     "data": {
      "text/plain": [
       "RandomForestClassifier(bootstrap=True, ccp_alpha=0.0, class_weight=None,\n",
       "                       criterion='gini', max_depth=None, max_features='auto',\n",
       "                       max_leaf_nodes=None, max_samples=None,\n",
       "                       min_impurity_decrease=0.0, min_impurity_split=None,\n",
       "                       min_samples_leaf=1, min_samples_split=2,\n",
       "                       min_weight_fraction_leaf=0.0, n_estimators=100,\n",
       "                       n_jobs=None, oob_score=False, random_state=None,\n",
       "                       verbose=0, warm_start=False)"
      ]
     },
     "execution_count": 353,
     "metadata": {},
     "output_type": "execute_result"
    }
   ],
   "source": [
    "# Import library of RandomForestClassifier model\n",
    "from sklearn.ensemble import RandomForestClassifier\n",
    "\n",
    "# Create a Random Forest Classifier\n",
    "rf = RandomForestClassifier()\n",
    "\n",
    "# Train the model using the training sets \n",
    "rf.fit(X_train,y_train)"
   ]
  },
  {
   "cell_type": "code",
   "execution_count": 354,
   "metadata": {},
   "outputs": [
    {
     "name": "stderr",
     "output_type": "stream",
     "text": [
      "No handles with labels found to put in legend.\n"
     ]
    },
    {
     "data": {
      "image/png": "[encoded data removed]",
      "text/plain": [
       "<Figure size 576x720 with 1 Axes>"
      ]
     },
     "metadata": {
      "needs_background": "light"
     },
     "output_type": "display_data"
    }
   ],
   "source": [
    "# Finding the variable with more importance\n",
    "feature_imp = pd.Series(rf.feature_importances_,index= X_train.columns).sort_values(ascending=False)\n",
    "# Creating a bar plot\n",
    "feature_imp=feature_imp[0:10,]\n",
    "sns.barplot(x=feature_imp, y=feature_imp.index)\n",
    "# Add labels to the graph\n",
    "plt.xlabel('Feature Importance Score')\n",
    "plt.ylabel('Features')\n",
    "plt.title(\"Visualizing Important Features\")\n",
    "plt.legend()\n",
    "plt.show()"
   ]
  },
  {
   "cell_type": "code",
   "execution_count": 355,
   "metadata": {},
   "outputs": [],
   "source": [
    "# Prediction on test data\n",
    "y_pred = rf.predict(X_test)"
   ]
  },
  {
   "cell_type": "code",
   "execution_count": 356,
   "metadata": {},
   "outputs": [
    {
     "name": "stdout",
     "output_type": "stream",
     "text": [
      "Total Accuracy :  78.79\n"
     ]
    }
   ],
   "source": [
    "# Calculating the accuracy, precision and the recall\n",
    "acc_rf = round( metrics.accuracy_score(y_test, y_pred) * 100 , 2 )\n",
    "print( 'Total Accuracy : ', acc_rf )"
   ]
  },
  {
   "cell_type": "markdown",
   "metadata": {},
   "source": [
    "### K - Nearest Neighbors"
   ]
  },
  {
   "cell_type": "code",
   "execution_count": 358,
   "metadata": {},
   "outputs": [
    {
     "data": {
      "text/plain": [
       "KNeighborsClassifier(algorithm='auto', leaf_size=30, metric='minkowski',\n",
       "                     metric_params=None, n_jobs=None, n_neighbors=5, p=2,\n",
       "                     weights='uniform')"
      ]
     },
     "execution_count": 358,
     "metadata": {},
     "output_type": "execute_result"
    }
   ],
   "source": [
    "# Import library of KNeighborsClassifier model\n",
    "from sklearn.neighbors import KNeighborsClassifier\n",
    "\n",
    "# Create a KNN Classifier\n",
    "knn = KNeighborsClassifier()\n",
    "\n",
    "# Train the model using the training sets \n",
    "knn.fit(X_train,y_train)"
   ]
  },
  {
   "cell_type": "code",
   "execution_count": 359,
   "metadata": {},
   "outputs": [],
   "source": [
    "# Prediction on test data\n",
    "y_pred = knn.predict(X_test)"
   ]
  },
  {
   "cell_type": "code",
   "execution_count": 360,
   "metadata": {},
   "outputs": [
    {
     "name": "stdout",
     "output_type": "stream",
     "text": [
      "Total Accuracy :  24.24\n",
      "F1-score :  24.34\n"
     ]
    }
   ],
   "source": [
    "# Calculating the accuracy, precision and the recall\n",
    "acc_knn = round( metrics.accuracy_score(y_test, y_pred) * 100, 2 )\n",
    "f1_knn = round(f1_score(y_test, y_pred, average='weighted') * 100, 2)\n",
    "print( 'Total Accuracy : ', acc_knn )\n",
    "print( 'F1-score : ', f1_knn)"
   ]
  },
  {
   "cell_type": "markdown",
   "metadata": {},
   "source": [
    "### eXtreme Gradient Boosting"
   ]
  },
  {
   "cell_type": "code",
   "execution_count": 361,
   "metadata": {},
   "outputs": [
    {
     "name": "stdout",
     "output_type": "stream",
     "text": [
      "[23:57:05] WARNING: /Users/travis/build/dmlc/xgboost/src/learner.cc:480: \n",
      "Parameters: { silent } might not be used.\n",
      "\n",
      "  This may not be accurate due to some parameters are only used in language bindings but\n",
      "  passed down to XGBoost core.  Or some parameters are not used but slip through this\n",
      "  verification. Please open an issue if you find above cases.\n",
      "\n",
      "\n"
     ]
    },
    {
     "data": {
      "text/plain": [
       "XGBClassifier(base_score=0.5, booster='gbtree', colsample_bylevel=1,\n",
       "              colsample_bynode=1, colsample_bytree=1, gamma=0, gpu_id=-1,\n",
       "              importance_type='gain', interaction_constraints='',\n",
       "              learning_rate=0.02, max_delta_step=0, max_depth=6,\n",
       "              min_child_weight=1, missing=nan, monotone_constraints='()',\n",
       "              n_estimators=1000, n_jobs=1, nthread=1, num_class=5,\n",
       "              num_parallel_tree=1, objective='multi:softprob', random_state=0,\n",
       "              reg_alpha=0, reg_lambda=1, scale_pos_weight=None, silent=True,\n",
       "              subsample=1, tree_method='exact', validate_parameters=1,\n",
       "              verbosity=None)"
      ]
     },
     "execution_count": 361,
     "metadata": {},
     "output_type": "execute_result"
    }
   ],
   "source": [
    "\n",
    "\n",
    "# Import library of xgboost model\n",
    "from xgboost import XGBClassifier, plot_importance\n",
    "\n",
    "# Create a XGB Classifier\n",
    "gbm = XGBClassifier(learning_rate=0.02, n_estimators=1000, objective='multi:softmax', silent=True, nthread=1, num_class=5)\n",
    "\n",
    "# # A parameter grid for XGBoost for Hyperparameter Optimization\n",
    "# parameters = {\n",
    "#         'min_child_weight': [1, 5, 10],\n",
    "#         'gamma': [0.1, 0.5, 1, 1.5, 2, 5],\n",
    "#         'subsample': [0.6, 0.8, 1.0],\n",
    "#         'colsample_bytree': [0.6, 0.8, 1.0],\n",
    "#         'max_depth': [3, 5, 6]\n",
    "#         }\n",
    "\n",
    "# # Run the grid search\n",
    "# grid_obj = GridSearchCV(gbm, parameters)\n",
    "# grid_obj = grid_obj.fit(X_train, y_train)\n",
    "\n",
    "# # Set the rf to the best combination of parameters\n",
    "# gbm = grid_obj.best_estimator_\n",
    "\n",
    "# Train the model using the training sets\n",
    "gbm.fit(X_train, y_train)"
   ]
  },
  {
   "cell_type": "code",
   "execution_count": 362,
   "metadata": {},
   "outputs": [],
   "source": [
    "# Prediction on test data\n",
    "y_pred = gbm.predict(X_test)"
   ]
  },
  {
   "cell_type": "code",
   "execution_count": 363,
   "metadata": {},
   "outputs": [
    {
     "name": "stdout",
     "output_type": "stream",
     "text": [
      "Total Accuracy :  81.82\n",
      "F1-score :  80.34\n"
     ]
    }
   ],
   "source": [
    "# Calculating the accuracy, precision and the recall\n",
    "acc_xgb = round( metrics.accuracy_score(y_test, y_pred) * 100 , 2 )\n",
    "f1_xgb = round(f1_score(y_test, y_pred, average='weighted') * 100, 2)\n",
    "print( 'Total Accuracy : ', acc_xgb )\n",
    "print( 'F1-score : ', f1_xgb)"
   ]
  },
  {
   "cell_type": "code",
   "execution_count": 364,
   "metadata": {},
   "outputs": [
    {
     "data": {
      "image/png": "[encoded data removed]",
      "text/plain": [
       "<Figure size 864x1080 with 1 Axes>"
      ]
     },
     "metadata": {
      "needs_background": "light"
     },
     "output_type": "display_data"
    }
   ],
   "source": [
    "# Feature Engineering\n",
    "fig, ax = plt.subplots(figsize=(12,15))\n",
    "plot_importance(gbm, max_num_features=50, height=0.8, ax=ax)\n",
    "plt.show()"
   ]
  },
  {
   "cell_type": "markdown",
   "metadata": {},
   "source": [
    "As we analyze the graph above, \"RSU_ID\" is an important featur for model prediction"
   ]
  },
  {
   "cell_type": "code",
   "execution_count": 365,
   "metadata": {},
   "outputs": [
    {
     "data": {
      "text/plain": [
       "{'LW_FRONT': 0.6267185335654561,\n",
       " 'RSU_ID': 0.12080021242023846,\n",
       " 'LW_BACK': 0.6547938453410103,\n",
       " 'NUM_OF_PASSENGERS': 0.26256860557691775,\n",
       " 'PASSENGER_LEVEL': 0.3129437545576901,\n",
       " 'POI_NUM': 0.23650351152076243,\n",
       " 'SOURCE_CAR_NBR': 0.1128829162060468,\n",
       " 'DOOR_ZONE_BACK': 1.0261128270010322}"
      ]
     },
     "execution_count": 365,
     "metadata": {},
     "output_type": "execute_result"
    }
   ],
   "source": [
    "gbm.get_booster().get_score(importance_type=\"gain\")"
   ]
  },
  {
   "cell_type": "markdown",
   "metadata": {},
   "source": [
    "According to the scores above, for eXtreme Gradient Boosting model, \"LW_BACK\" has more importance than other features"
   ]
  },
  {
   "cell_type": "markdown",
   "metadata": {},
   "source": [
    "### SVM Classifier"
   ]
  },
  {
   "cell_type": "code",
   "execution_count": 366,
   "metadata": {},
   "outputs": [],
   "source": [
    "# Creating scaled set to be used in model to improve the results\n",
    "from sklearn.preprocessing import StandardScaler\n",
    "sc = StandardScaler()\n",
    "X_train = sc.fit_transform(X_train)\n",
    "X_test = sc.transform(X_test)"
   ]
  },
  {
   "cell_type": "code",
   "execution_count": 367,
   "metadata": {},
   "outputs": [
    {
     "data": {
      "text/plain": [
       "SVC(C=1.0, break_ties=False, cache_size=200, class_weight=None, coef0=0.0,\n",
       "    decision_function_shape='ovr', degree=3, gamma='scale', kernel='rbf',\n",
       "    max_iter=-1, probability=False, random_state=None, shrinking=True,\n",
       "    tol=0.001, verbose=False)"
      ]
     },
     "execution_count": 367,
     "metadata": {},
     "output_type": "execute_result"
    }
   ],
   "source": [
    "# Import Library of Support Vector Machine model\n",
    "from sklearn import svm\n",
    "\n",
    "# Create a Support Vector Classifier\n",
    "svc = svm.SVC()\n",
    "\n",
    "# Train the model using the training sets \n",
    "svc.fit(X_train,y_train)"
   ]
  },
  {
   "cell_type": "code",
   "execution_count": 368,
   "metadata": {},
   "outputs": [],
   "source": [
    "# Prediction on test data\n",
    "y_pred = svc.predict(X_test)"
   ]
  },
  {
   "cell_type": "code",
   "execution_count": 369,
   "metadata": {},
   "outputs": [
    {
     "name": "stdout",
     "output_type": "stream",
     "text": [
      "Total Accuracy :  66.67\n"
     ]
    }
   ],
   "source": [
    "# Calculating the accuracy, precision and the recall\n",
    "acc_svm = round( metrics.accuracy_score(y_test, y_pred) * 100, 2 )\n",
    "print( 'Total Accuracy : ', acc_svm )"
   ]
  },
  {
   "cell_type": "markdown",
   "metadata": {},
   "source": [
    "### Evaluating and Compairing models for accuracy"
   ]
  },
  {
   "cell_type": "code",
   "execution_count": 370,
   "metadata": {},
   "outputs": [
    {
     "data": {
      "text/html": [
       "<div>\n",
       "<style scoped>\n",
       "    .dataframe tbody tr th:only-of-type {\n",
       "        vertical-align: middle;\n",
       "    }\n",
       "\n",
       "    .dataframe tbody tr th {\n",
       "        vertical-align: top;\n",
       "    }\n",
       "\n",
       "    .dataframe thead th {\n",
       "        text-align: right;\n",
       "    }\n",
       "</style>\n",
       "<table border=\"1\" class=\"dataframe\">\n",
       "  <thead>\n",
       "    <tr style=\"text-align: right;\">\n",
       "      <th></th>\n",
       "      <th>Model</th>\n",
       "      <th>Score</th>\n",
       "    </tr>\n",
       "  </thead>\n",
       "  <tbody>\n",
       "    <tr>\n",
       "      <th>6</th>\n",
       "      <td>XGBoost</td>\n",
       "      <td>81.82</td>\n",
       "    </tr>\n",
       "    <tr>\n",
       "      <th>2</th>\n",
       "      <td>Decision Tree</td>\n",
       "      <td>78.79</td>\n",
       "    </tr>\n",
       "    <tr>\n",
       "      <th>3</th>\n",
       "      <td>Random Forest</td>\n",
       "      <td>78.79</td>\n",
       "    </tr>\n",
       "    <tr>\n",
       "      <th>4</th>\n",
       "      <td>Support Vector Machines</td>\n",
       "      <td>66.67</td>\n",
       "    </tr>\n",
       "    <tr>\n",
       "      <th>1</th>\n",
       "      <td>Naive Bayes</td>\n",
       "      <td>57.58</td>\n",
       "    </tr>\n",
       "    <tr>\n",
       "      <th>0</th>\n",
       "      <td>Logistic Regression</td>\n",
       "      <td>45.45</td>\n",
       "    </tr>\n",
       "    <tr>\n",
       "      <th>5</th>\n",
       "      <td>K - Nearest Neighbors</td>\n",
       "      <td>24.24</td>\n",
       "    </tr>\n",
       "  </tbody>\n",
       "</table>\n",
       "</div>"
      ],
      "text/plain": [
       "                     Model  Score\n",
       "6                  XGBoost  81.82\n",
       "2            Decision Tree  78.79\n",
       "3            Random Forest  78.79\n",
       "4  Support Vector Machines  66.67\n",
       "1              Naive Bayes  57.58\n",
       "0      Logistic Regression  45.45\n",
       "5    K - Nearest Neighbors  24.24"
      ]
     },
     "execution_count": 370,
     "metadata": {},
     "output_type": "execute_result"
    }
   ],
   "source": [
    "\n",
    "models = pd.DataFrame({\n",
    "    'Model': ['Logistic Regression', 'Naive Bayes', 'Decision Tree', 'Random Forest', 'Support Vector Machines', \n",
    "              'K - Nearest Neighbors', 'XGBoost'],\n",
    "    'Score': [acc_logreg, acc_nb, acc_dt, acc_rf, acc_svm, acc_knn, acc_xgb]})\n",
    "models.sort_values(by='Score', ascending=False)"
   ]
  },
  {
   "cell_type": "markdown",
   "metadata": {},
   "source": [
    "Now to predict our target variable values, use the dataset which was scored highest for accuracy in the above accuracy table"
   ]
  },
  {
   "cell_type": "markdown",
   "metadata": {},
   "source": [
    "### Predicting on the test dataset"
   ]
  },
  {
   "cell_type": "code",
   "execution_count": 376,
   "metadata": {},
   "outputs": [],
   "source": [
    "mtamnr_pred = gbm.predict(test_data)"
   ]
  },
  {
   "cell_type": "code",
   "execution_count": 377,
   "metadata": {},
   "outputs": [],
   "source": [
    "mtamnr['MIN_BASELINE'] = mtamnr_pred"
   ]
  },
  {
   "cell_type": "code",
   "execution_count": 378,
   "metadata": {},
   "outputs": [
    {
     "data": {
      "text/plain": [
       "(823, 2)"
      ]
     },
     "execution_count": 378,
     "metadata": {},
     "output_type": "execute_result"
    }
   ],
   "source": [
    "mtamnr.shape"
   ]
  },
  {
   "cell_type": "code",
   "execution_count": 379,
   "metadata": {},
   "outputs": [],
   "source": [
    "mtamnr['MIN_BASELINE'] = mtamnr['MIN_BASELINE'].replace(0, 'low')\n",
    "mtamnr['MIN_BASELINE'] = mtamnr['MIN_BASELINE'].replace(1, 'medium')\n",
    "mtamnr['MIN_BASELINE'] = mtamnr['MIN_BASELINE'].replace(2, 'medium')\n",
    "mtamnr['MIN_BASELINE'] = mtamnr['MIN_BASELINE'].replace(3, 'high')\n",
    "mtamnr['MIN_BASELINE'] = mtamnr['MIN_BASELINE'].replace(4, 'high')"
   ]
  },
  {
   "cell_type": "code",
   "execution_count": 380,
   "metadata": {},
   "outputs": [
    {
     "name": "stdout",
     "output_type": "stream",
     "text": [
      "Saved file to disk.\n"
     ]
    }
   ],
   "source": [
    "# Saving predictions to file\n",
    "mtamnr.to_csv('submission.csv', index=False)\n",
    "print('Saved file to disk.')"
   ]
  },
  {
   "cell_type": "code",
   "execution_count": null,
   "metadata": {},
   "outputs": [],
   "source": []
  }
 ],
 "metadata": {
  "kernelspec": {
   "display_name": "Python 3",
   "language": "python",
   "name": "python3"
  },
  "language_info": {
   "codemirror_mode": {
    "name": "ipython",
    "version": 3
   },
   "file_extension": ".py",
   "mimetype": "text/x-python",
   "name": "python",
   "nbconvert_exporter": "python",
   "pygments_lexer": "ipython3",
   "version": "3.7.6"
  }
 },
 "nbformat": 4,
 "nbformat_minor": 4
}
